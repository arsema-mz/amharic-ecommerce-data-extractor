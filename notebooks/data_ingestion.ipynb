{
 "cells": [
  {
   "cell_type": "code",
   "execution_count": 1,
   "id": "529d122e",
   "metadata": {},
   "outputs": [],
   "source": [
    "import pandas as pd\n",
    "import re"
   ]
  },
  {
   "cell_type": "code",
   "execution_count": 3,
   "id": "4aeaf0a7",
   "metadata": {},
   "outputs": [],
   "source": [
    "df = pd.read_csv(\"../data/structured_messages.csv\")"
   ]
  },
  {
   "cell_type": "markdown",
   "id": "5542b8db",
   "metadata": {},
   "source": [
    "## Entity Extraction:\n",
    "\n",
    "Define a function to extract entities (e.g., product names, prices).\n",
    "Apply the function to the DataFrame."
   ]
  },
  {
   "cell_type": "code",
   "execution_count": 8,
   "id": "6aa1ad9b",
   "metadata": {},
   "outputs": [],
   "source": [
    "def extract_entities(text):\n",
    "    # Adjust the regex pattern for price extraction\n",
    "    price_pattern = r'(?i)price\\s*[:\\s]*([\\d,]+)'  # Case insensitive\n",
    "    prices = re.findall(price_pattern, text)\n",
    "    \n",
    "    # Use the first line or adjust as needed for product names\n",
    "    product_name = text.split('\\n')[0]\n",
    "    \n",
    "    return product_name, prices"
   ]
  },
  {
   "cell_type": "code",
   "execution_count": 11,
   "id": "4958b980",
   "metadata": {},
   "outputs": [],
   "source": [
    "df.to_csv(\"../data/extracted_entities.csv\", index=False, encoding='utf-8-sig')"
   ]
  },
  {
   "cell_type": "code",
   "execution_count": 12,
   "id": "0752975b",
   "metadata": {},
   "outputs": [
    {
     "name": "stdout",
     "output_type": "stream",
     "text": [
      "              product_name  prices\n",
      "0          እሁድ ሁሌም ክፍት ነን   [3300]\n",
      "1        skechers archfit   [3400]\n",
      "2          እሁድ ሁሌም ክፍት ነን   [4500]\n",
      "3  nike air force paisley   [3700]\n",
      "4        skechers gy ultra  [3400]\n"
     ]
    }
   ],
   "source": [
    "df['product_name'], df['prices'] = zip(*df['normalized_messages'].apply(extract_entities))\n",
    "\n",
    "# Display the updated DataFrame\n",
    "print(df[['product_name', 'prices']].head())"
   ]
  },
  {
   "cell_type": "code",
   "execution_count": 13,
   "id": "c8e022c4",
   "metadata": {},
   "outputs": [
    {
     "name": "stdout",
     "output_type": "stream",
     "text": [
      "count       62\n",
      "unique      25\n",
      "top       3500\n",
      "freq        10\n",
      "Name: prices, dtype: int64\n"
     ]
    }
   ],
   "source": [
    "# Convert prices from string to integer\n",
    "df['prices'] = df['prices'].apply(lambda x: [int(price) for price in x])\n",
    "\n",
    "# Summary statistics\n",
    "print(df['prices'].explode().describe())"
   ]
  },
  {
   "cell_type": "markdown",
   "id": "88e3ba0d",
   "metadata": {},
   "source": [
    "# Summary of Data Ingestion and Entity Extraction\n",
    "\n",
    "## Introduction\n",
    "In this notebook, we ingested data from Ethiopian-based Telegram e-commerce channels and processed it for entity extraction. The focus was on extracting product names and prices from the messages.\n",
    "\n",
    "## Steps Taken\n",
    "\n",
    "1. **Data Loading**: \n",
    "   We loaded the structured data from the CSV file containing messages.\n",
    "\n",
    "2. **Entity Extraction**:\n",
    "   - Implemented a function to extract product names and prices from the normalized messages.\n",
    "   - Successfully captured both product names and associated prices.\n",
    "\n",
    "3. **Data Storage**:\n",
    "   - The extracted entities were saved to a new CSV file (`extracted_entities.csv`).\n",
    "\n",
    "4. **Data Analysis**:\n",
    "   - Analyzed the price data to understand its distribution:\n",
    "     - **Count**: 62 total entries for prices.\n",
    "     - **Unique Prices**: 25 unique price points.\n",
    "     - **Most Frequent Price**: 3500, appearing 10 times.\n",
    "\n",
    "5. **Visualizations**:\n",
    "   - A histogram was created to visualize the distribution of prices.\n",
    "\n",
    "## Insights\n",
    "- The price distribution shows a concentration around certain values, indicating common price points for products in the e-commerce channels.\n",
    "- Understanding these trends can help inform marketing strategies and inventory management for businesses operating in this space.\n",
    "\n",
    "## Conclusion\n",
    "This notebook provides a foundational step in analyzing e-commerce trends within Ethiopian Telegram channels. Future analyses could include deeper dives into product categories, seasonal trends, and comparisons across different channels."
   ]
  },
  {
   "cell_type": "code",
   "execution_count": 14,
   "id": "aa05e338",
   "metadata": {},
   "outputs": [
    {
     "name": "stderr",
     "output_type": "stream",
     "text": [
      "c:\\Users\\arsem\\AppData\\Local\\Programs\\Python\\Python312\\Lib\\site-packages\\numpy\\lib\\_histograms_impl.py:835: RuntimeWarning: invalid value encountered in greater_equal\n",
      "  keep = (tmp_a >= first_edge)\n",
      "c:\\Users\\arsem\\AppData\\Local\\Programs\\Python\\Python312\\Lib\\site-packages\\numpy\\lib\\_histograms_impl.py:836: RuntimeWarning: invalid value encountered in less_equal\n",
      "  keep &= (tmp_a <= last_edge)\n"
     ]
    },
    {
     "data": {
      "image/png": "[encoded data removed]",
      "text/plain": [
       "<Figure size 640x480 with 1 Axes>"
      ]
     },
     "metadata": {},
     "output_type": "display_data"
    }
   ],
   "source": [
    "import matplotlib.pyplot as plt\n",
    "\n",
    "# Flatten the list of prices for visualization\n",
    "all_prices = df['prices'].explode()\n",
    "\n",
    "plt.hist(all_prices, bins=20, edgecolor='black')\n",
    "plt.title('Price Distribution')\n",
    "plt.xlabel('Price')\n",
    "plt.ylabel('Frequency')\n",
    "plt.show()"
   ]
  }
 ],
 "metadata": {
  "kernelspec": {
   "display_name": "Python 3",
   "language": "python",
   "name": "python3"
  },
  "language_info": {
   "codemirror_mode": {
    "name": "ipython",
    "version": 3
   },
   "file_extension": ".py",
   "mimetype": "text/x-python",
   "name": "python",
   "nbconvert_exporter": "python",
   "pygments_lexer": "ipython3",
   "version": "3.12.4"
  }
 },
 "nbformat": 4,
 "nbformat_minor": 5
}
